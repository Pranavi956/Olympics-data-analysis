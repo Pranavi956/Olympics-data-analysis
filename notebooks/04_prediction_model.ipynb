{
 "cells": [
  {
   "cell_type": "code",
   "execution_count": 1,
   "id": "b7eec721",
   "metadata": {},
   "outputs": [],
   "source": [
    "import pandas as pd\n",
    "from sklearn.model_selection import train_test_split\n",
    "from sklearn.preprocessing import LabelEncoder\n",
    "from sklearn.linear_model import LogisticRegression\n",
    "from sklearn.metrics import classification_report, confusion_matrix\n",
    "\n",
    "# Load data\n",
    "df = pd.read_csv(\"../data/cleaned_olympics_data.csv\")\n"
   ]
  },
  {
   "cell_type": "code",
   "execution_count": 2,
   "id": "d2341201",
   "metadata": {},
   "outputs": [],
   "source": [
    "# Convert Medal to binary: 1 = Medal, 0 = No Medal (though all rows here have medals)\n",
    "# We'll instead predict type of medal: Gold/Silver/Bronze\n",
    "\n",
    "# Encode Medal as target\n",
    "le_medal = LabelEncoder()\n",
    "df['Medal_encoded'] = le_medal.fit_transform(df['Medal'])  # Gold=1, Bronze=0, Silver=2 (order may vary)\n",
    "\n",
    "# Encode Gender, Country, Sport\n",
    "df['Gender_encoded'] = LabelEncoder().fit_transform(df['Gender'])\n",
    "df['Country_encoded'] = LabelEncoder().fit_transform(df['Country'])\n",
    "df['Sport_encoded'] = LabelEncoder().fit_transform(df['Sport'])\n"
   ]
  },
  {
   "cell_type": "code",
   "execution_count": 3,
   "id": "a12060ff",
   "metadata": {},
   "outputs": [],
   "source": [
    "# Define features and target\n",
    "X = df[['Gender_encoded', 'Country_encoded', 'Sport_encoded']]\n",
    "y = df['Medal_encoded']\n",
    "\n",
    "# Train-test split\n",
    "X_train, X_test, y_train, y_test = train_test_split(X, y, test_size=0.2, random_state=42)\n"
   ]
  },
  {
   "cell_type": "code",
   "execution_count": 4,
   "id": "d6d123bc",
   "metadata": {},
   "outputs": [],
   "source": [
    "# Initialize and train model\n",
    "model = LogisticRegression(max_iter=200)\n",
    "model.fit(X_train, y_train)\n",
    "\n",
    "# Predict\n",
    "y_pred = model.predict(X_test)\n"
   ]
  },
  {
   "cell_type": "code",
   "execution_count": 5,
   "id": "f199367a",
   "metadata": {},
   "outputs": [
    {
     "name": "stdout",
     "output_type": "stream",
     "text": [
      "Confusion Matrix:\n",
      " [[640 371  16]\n",
      " [591 433  19]\n",
      " [557 418  19]]\n",
      "\n",
      "Classification Report:\n",
      "               precision    recall  f1-score   support\n",
      "\n",
      "      Bronze       0.36      0.62      0.45      1027\n",
      "        Gold       0.35      0.42      0.38      1043\n",
      "      Silver       0.35      0.02      0.04       994\n",
      "\n",
      "    accuracy                           0.36      3064\n",
      "   macro avg       0.35      0.35      0.29      3064\n",
      "weighted avg       0.35      0.36      0.29      3064\n",
      "\n"
     ]
    }
   ],
   "source": [
    "# Confusion Matrix and Classification Report\n",
    "print(\"Confusion Matrix:\\n\", confusion_matrix(y_test, y_pred))\n",
    "print(\"\\nClassification Report:\\n\", classification_report(y_test, y_pred, target_names=le_medal.classes_))\n"
   ]
  },
  {
   "cell_type": "code",
   "execution_count": null,
   "id": "1f59f135",
   "metadata": {},
   "outputs": [],
   "source": []
  }
 ],
 "metadata": {
  "kernelspec": {
   "display_name": "Python 3",
   "language": "python",
   "name": "python3"
  },
  "language_info": {
   "codemirror_mode": {
    "name": "ipython",
    "version": 3
   },
   "file_extension": ".py",
   "mimetype": "text/x-python",
   "name": "python",
   "nbconvert_exporter": "python",
   "pygments_lexer": "ipython3",
   "version": "3.13.4"
  }
 },
 "nbformat": 4,
 "nbformat_minor": 5
}
