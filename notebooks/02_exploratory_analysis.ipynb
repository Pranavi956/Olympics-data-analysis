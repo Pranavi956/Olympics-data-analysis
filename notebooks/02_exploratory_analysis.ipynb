{
 "cells": [
  {
   "cell_type": "code",
   "execution_count": 1,
   "id": "1064a4fa",
   "metadata": {},
   "outputs": [
    {
     "data": {
      "text/html": [
       "<div>\n",
       "<style scoped>\n",
       "    .dataframe tbody tr th:only-of-type {\n",
       "        vertical-align: middle;\n",
       "    }\n",
       "\n",
       "    .dataframe tbody tr th {\n",
       "        vertical-align: top;\n",
       "    }\n",
       "\n",
       "    .dataframe thead th {\n",
       "        text-align: right;\n",
       "    }\n",
       "</style>\n",
       "<table border=\"1\" class=\"dataframe\">\n",
       "  <thead>\n",
       "    <tr style=\"text-align: right;\">\n",
       "      <th></th>\n",
       "      <th>City</th>\n",
       "      <th>Year</th>\n",
       "      <th>Sport</th>\n",
       "      <th>Discipline</th>\n",
       "      <th>Event</th>\n",
       "      <th>Athlete</th>\n",
       "      <th>Gender</th>\n",
       "      <th>Country</th>\n",
       "      <th>Medal</th>\n",
       "    </tr>\n",
       "  </thead>\n",
       "  <tbody>\n",
       "    <tr>\n",
       "      <th>0</th>\n",
       "      <td>Montreal</td>\n",
       "      <td>1976.0</td>\n",
       "      <td>Aquatics</td>\n",
       "      <td>Diving</td>\n",
       "      <td>3m springboard</td>\n",
       "      <td>K�HLER, Christa</td>\n",
       "      <td>WOMEN</td>\n",
       "      <td>East Germany</td>\n",
       "      <td>Silver</td>\n",
       "    </tr>\n",
       "    <tr>\n",
       "      <th>1</th>\n",
       "      <td>Montreal</td>\n",
       "      <td>1976.0</td>\n",
       "      <td>Aquatics</td>\n",
       "      <td>Diving</td>\n",
       "      <td>3m springboard</td>\n",
       "      <td>KOSENKOV, Aleksandr</td>\n",
       "      <td>MEN</td>\n",
       "      <td>Soviet Union</td>\n",
       "      <td>Bronze</td>\n",
       "    </tr>\n",
       "    <tr>\n",
       "      <th>2</th>\n",
       "      <td>Montreal</td>\n",
       "      <td>1976.0</td>\n",
       "      <td>Aquatics</td>\n",
       "      <td>Diving</td>\n",
       "      <td>3m springboard</td>\n",
       "      <td>BOGGS, Philip George</td>\n",
       "      <td>MEN</td>\n",
       "      <td>United States</td>\n",
       "      <td>Gold</td>\n",
       "    </tr>\n",
       "    <tr>\n",
       "      <th>3</th>\n",
       "      <td>Montreal</td>\n",
       "      <td>1976.0</td>\n",
       "      <td>Aquatics</td>\n",
       "      <td>Diving</td>\n",
       "      <td>3m springboard</td>\n",
       "      <td>CAGNOTTO, Giorgio Franco</td>\n",
       "      <td>MEN</td>\n",
       "      <td>Italy</td>\n",
       "      <td>Silver</td>\n",
       "    </tr>\n",
       "    <tr>\n",
       "      <th>4</th>\n",
       "      <td>Montreal</td>\n",
       "      <td>1976.0</td>\n",
       "      <td>Aquatics</td>\n",
       "      <td>Diving</td>\n",
       "      <td>10m platform</td>\n",
       "      <td>WILSON, Deborah Keplar</td>\n",
       "      <td>WOMEN</td>\n",
       "      <td>United States</td>\n",
       "      <td>Bronze</td>\n",
       "    </tr>\n",
       "  </tbody>\n",
       "</table>\n",
       "</div>"
      ],
      "text/plain": [
       "       City    Year     Sport Discipline           Event  \\\n",
       "0  Montreal  1976.0  Aquatics     Diving  3m springboard   \n",
       "1  Montreal  1976.0  Aquatics     Diving  3m springboard   \n",
       "2  Montreal  1976.0  Aquatics     Diving  3m springboard   \n",
       "3  Montreal  1976.0  Aquatics     Diving  3m springboard   \n",
       "4  Montreal  1976.0  Aquatics     Diving    10m platform   \n",
       "\n",
       "                    Athlete Gender        Country   Medal  \n",
       "0           K�HLER, Christa  WOMEN   East Germany  Silver  \n",
       "1       KOSENKOV, Aleksandr    MEN   Soviet Union  Bronze  \n",
       "2      BOGGS, Philip George    MEN  United States    Gold  \n",
       "3  CAGNOTTO, Giorgio Franco    MEN          Italy  Silver  \n",
       "4    WILSON, Deborah Keplar  WOMEN  United States  Bronze  "
      ]
     },
     "execution_count": 1,
     "metadata": {},
     "output_type": "execute_result"
    }
   ],
   "source": [
    "import pandas as pd\n",
    "\n",
    "# Load the cleaned dataset from Notebook 1\n",
    "df = pd.read_csv(\"../data/cleaned_olympics_data.csv\")\n",
    "\n",
    "# Preview\n",
    "df.head()\n"
   ]
  },
  {
   "cell_type": "code",
   "execution_count": 2,
   "id": "e9310f3a",
   "metadata": {},
   "outputs": [
    {
     "name": "stdout",
     "output_type": "stream",
     "text": [
      "Country\n",
      "United States     1992\n",
      "Soviet Union      1021\n",
      "Australia          798\n",
      "Germany            691\n",
      "China              679\n",
      "Russia             638\n",
      "East Germany       626\n",
      "Italy              486\n",
      "Romania            482\n",
      "United Kingdom     467\n",
      "Name: count, dtype: int64\n"
     ]
    }
   ],
   "source": [
    "# Total medals by country\n",
    "top_countries = df['Country'].value_counts().head(10)\n",
    "print(top_countries)\n"
   ]
  },
  {
   "cell_type": "code",
   "execution_count": 3,
   "id": "4035296a",
   "metadata": {},
   "outputs": [
    {
     "name": "stdout",
     "output_type": "stream",
     "text": [
      "Year\n",
      "1976.0    1305\n",
      "1980.0    1387\n",
      "1984.0    1459\n",
      "1988.0    1546\n",
      "1992.0    1705\n",
      "1996.0    1859\n",
      "2000.0    2015\n",
      "2004.0    1998\n",
      "2008.0    2042\n",
      "Name: Medal, dtype: int64\n"
     ]
    }
   ],
   "source": [
    "medals_by_year = df.groupby('Year')['Medal'].count()\n",
    "print(medals_by_year)\n"
   ]
  },
  {
   "cell_type": "code",
   "execution_count": 4,
   "id": "18c2d2cb",
   "metadata": {},
   "outputs": [
    {
     "name": "stdout",
     "output_type": "stream",
     "text": [
      "Gender\n",
      "MEN      9388\n",
      "WOMEN    5928\n",
      "Name: count, dtype: int64\n"
     ]
    }
   ],
   "source": [
    "gender_medals = df['Gender'].value_counts()\n",
    "print(gender_medals)\n"
   ]
  },
  {
   "cell_type": "code",
   "execution_count": 5,
   "id": "3d0d0712",
   "metadata": {},
   "outputs": [
    {
     "name": "stdout",
     "output_type": "stream",
     "text": [
      "Sport\n",
      "Aquatics         2210\n",
      "Athletics        1523\n",
      "Rowing           1377\n",
      "Hockey            817\n",
      "Gymnastics        783\n",
      "Handball          780\n",
      "Volleyball        695\n",
      "Canoe / Kayak     672\n",
      "Football          669\n",
      "Basketball        646\n",
      "Name: count, dtype: int64\n"
     ]
    }
   ],
   "source": [
    "top_sports = df['Sport'].value_counts().head(10)\n",
    "print(top_sports)\n"
   ]
  },
  {
   "cell_type": "code",
   "execution_count": 6,
   "id": "390abd68",
   "metadata": {},
   "outputs": [
    {
     "name": "stdout",
     "output_type": "stream",
     "text": [
      "Athlete\n",
      "PHELPS, Michael       16\n",
      "NEMOV, Alexei         12\n",
      "FISCHER, Birgit       12\n",
      "TORRES, Dara          12\n",
      "ANDRIANOV, Nikolay    12\n",
      "THOMPSON, Jenny       12\n",
      "BIONDI, Matthew       11\n",
      "COUGHLIN, Natalie     11\n",
      "SCHERBO, Vitaly       10\n",
      "LEWIS, Carl           10\n",
      "Name: count, dtype: int64\n"
     ]
    }
   ],
   "source": [
    "top_athletes = df['Athlete'].value_counts().head(10)\n",
    "print(top_athletes)\n"
   ]
  },
  {
   "cell_type": "code",
   "execution_count": 7,
   "id": "9de42445",
   "metadata": {},
   "outputs": [],
   "source": [
    "# Save basic summaries\n",
    "df['Country'].value_counts().to_csv(\"../data/country_medal_counts.csv\")\n",
    "df['Sport'].value_counts().to_csv(\"../data/sport_medal_counts.csv\")\n"
   ]
  },
  {
   "cell_type": "code",
   "execution_count": null,
   "id": "86403c17",
   "metadata": {},
   "outputs": [],
   "source": []
  }
 ],
 "metadata": {
  "kernelspec": {
   "display_name": "Python 3",
   "language": "python",
   "name": "python3"
  },
  "language_info": {
   "codemirror_mode": {
    "name": "ipython",
    "version": 3
   },
   "file_extension": ".py",
   "mimetype": "text/x-python",
   "name": "python",
   "nbconvert_exporter": "python",
   "pygments_lexer": "ipython3",
   "version": "3.13.4"
  }
 },
 "nbformat": 4,
 "nbformat_minor": 5
}
